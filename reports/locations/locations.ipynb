{
 "cells": [
  {
   "cell_type": "code",
   "id": "initial_id",
   "metadata": {
    "collapsed": true,
    "ExecuteTime": {
     "end_time": "2024-08-05T14:53:34.524873Z",
     "start_time": "2024-08-05T14:53:33.869171Z"
    }
   },
   "source": [
    "import duckdb\n",
    "from core.utils import duck_to_pandas, expand_column\n",
    "import os\n",
    "from dotenv import load_dotenv\n",
    "import pandas as pd\n",
    "import matplotlib.pyplot as plt\n",
    "import geopandas as gpd\n",
    "from shapely.geometry import Point\n",
    "from google.cloud import storage\n",
    "import re"
   ],
   "outputs": [],
   "execution_count": 1
  },
  {
   "metadata": {
    "ExecuteTime": {
     "end_time": "2024-08-05T14:53:34.539805Z",
     "start_time": "2024-08-05T14:53:34.525778Z"
    }
   },
   "cell_type": "code",
   "source": [
    "database_path = '/home/marcelo-borges/Documentos/Projetos/SIAN/laboratory/telemetry-validation/db/telemetria.duckdb'\n",
    "query = \"SELECT * FROM location_\"\n",
    "df_location = duck_to_pandas(database_path, query)"
   ],
   "id": "2819d497cd90494c",
   "outputs": [],
   "execution_count": 2
  },
  {
   "metadata": {
    "ExecuteTime": {
     "end_time": "2024-08-05T14:53:34.550048Z",
     "start_time": "2024-08-05T14:53:34.540475Z"
    }
   },
   "cell_type": "code",
   "source": "df_location.sample(n=5)",
   "id": "9e01852ed347b89b",
   "outputs": [
    {
     "data": {
      "text/plain": [
       "    OpacityOnMap  IsTemporary  IsDeleted  Radius              GroupId  \\\n",
       "42           0.1        False      False       0 -8537705117441354628   \n",
       "35           0.1        False      False       0 -8537705117441354628   \n",
       "25           0.1        False      False       0 -8537705117441354628   \n",
       "1            0.1        False      False       0 -8537705117441354628   \n",
       "79           0.1        False      False       0 -8537705117441354628   \n",
       "\n",
       "         OrganisationId           LocationId  \\\n",
       "42 -8537705117441354628  1679835320283758576   \n",
       "35 -8537705117441354628 -8901284344857561899   \n",
       "25 -8537705117441354628 -2678248184190878026   \n",
       "1  -8537705117441354628  5424925143421432450   \n",
       "79 -8537705117441354628  2892832169455635513   \n",
       "\n",
       "                                       ContactDetails LocationType ShapeType  \\\n",
       "42  {'ContactName': '', 'Email': '', 'HomePhone': ...    SpeedZone   Polygon   \n",
       "35  {'ContactName': '', 'Email': '', 'HomePhone': ...    SpeedZone   Polygon   \n",
       "25  {'ContactName': '', 'Email': '', 'HomePhone': ...    SpeedZone   Polygon   \n",
       "1   {'ContactName': '', 'Email': '', 'HomePhone': ...    SpeedZone   Polygon   \n",
       "79  {'ContactName': '', 'Email': '', 'HomePhone': ...    SpeedZone   Polygon   \n",
       "\n",
       "    ColourOnMap ShapeWkt                                            Address  \\\n",
       "42         Blue           Rua dos Esportes,  Mutirão e Curitiba,  Goiâni...   \n",
       "35          Red                  GO-080,  Goiânia - GO,  74003-010,  Brasil   \n",
       "25        Green           Avenida Buenos Aires,  241-17,  Jardim Novo Mu...   \n",
       "1           Red           Alameda das Gardênias,  Condomínio Jardim Vien...   \n",
       "79  ForestGreen           Jardim Novo Mundo, Goiânia - GO, 74710-375, Br...   \n",
       "\n",
       "                   Name  \n",
       "42     Garagem Noroeste  \n",
       "35        GO-080/NRP/80  \n",
       "25  Terminal Novo Mundo  \n",
       "1         BR-060/APG/60  \n",
       "79      Garagem Cootego  "
      ],
      "text/html": [
       "<div>\n",
       "<style scoped>\n",
       "    .dataframe tbody tr th:only-of-type {\n",
       "        vertical-align: middle;\n",
       "    }\n",
       "\n",
       "    .dataframe tbody tr th {\n",
       "        vertical-align: top;\n",
       "    }\n",
       "\n",
       "    .dataframe thead th {\n",
       "        text-align: right;\n",
       "    }\n",
       "</style>\n",
       "<table border=\"1\" class=\"dataframe\">\n",
       "  <thead>\n",
       "    <tr style=\"text-align: right;\">\n",
       "      <th></th>\n",
       "      <th>OpacityOnMap</th>\n",
       "      <th>IsTemporary</th>\n",
       "      <th>IsDeleted</th>\n",
       "      <th>Radius</th>\n",
       "      <th>GroupId</th>\n",
       "      <th>OrganisationId</th>\n",
       "      <th>LocationId</th>\n",
       "      <th>ContactDetails</th>\n",
       "      <th>LocationType</th>\n",
       "      <th>ShapeType</th>\n",
       "      <th>ColourOnMap</th>\n",
       "      <th>ShapeWkt</th>\n",
       "      <th>Address</th>\n",
       "      <th>Name</th>\n",
       "    </tr>\n",
       "  </thead>\n",
       "  <tbody>\n",
       "    <tr>\n",
       "      <th>42</th>\n",
       "      <td>0.1</td>\n",
       "      <td>False</td>\n",
       "      <td>False</td>\n",
       "      <td>0</td>\n",
       "      <td>-8537705117441354628</td>\n",
       "      <td>-8537705117441354628</td>\n",
       "      <td>1679835320283758576</td>\n",
       "      <td>{'ContactName': '', 'Email': '', 'HomePhone': ...</td>\n",
       "      <td>SpeedZone</td>\n",
       "      <td>Polygon</td>\n",
       "      <td>Blue</td>\n",
       "      <td></td>\n",
       "      <td>Rua dos Esportes,  Mutirão e Curitiba,  Goiâni...</td>\n",
       "      <td>Garagem Noroeste</td>\n",
       "    </tr>\n",
       "    <tr>\n",
       "      <th>35</th>\n",
       "      <td>0.1</td>\n",
       "      <td>False</td>\n",
       "      <td>False</td>\n",
       "      <td>0</td>\n",
       "      <td>-8537705117441354628</td>\n",
       "      <td>-8537705117441354628</td>\n",
       "      <td>-8901284344857561899</td>\n",
       "      <td>{'ContactName': '', 'Email': '', 'HomePhone': ...</td>\n",
       "      <td>SpeedZone</td>\n",
       "      <td>Polygon</td>\n",
       "      <td>Red</td>\n",
       "      <td></td>\n",
       "      <td>GO-080,  Goiânia - GO,  74003-010,  Brasil</td>\n",
       "      <td>GO-080/NRP/80</td>\n",
       "    </tr>\n",
       "    <tr>\n",
       "      <th>25</th>\n",
       "      <td>0.1</td>\n",
       "      <td>False</td>\n",
       "      <td>False</td>\n",
       "      <td>0</td>\n",
       "      <td>-8537705117441354628</td>\n",
       "      <td>-8537705117441354628</td>\n",
       "      <td>-2678248184190878026</td>\n",
       "      <td>{'ContactName': '', 'Email': '', 'HomePhone': ...</td>\n",
       "      <td>SpeedZone</td>\n",
       "      <td>Polygon</td>\n",
       "      <td>Green</td>\n",
       "      <td></td>\n",
       "      <td>Avenida Buenos Aires,  241-17,  Jardim Novo Mu...</td>\n",
       "      <td>Terminal Novo Mundo</td>\n",
       "    </tr>\n",
       "    <tr>\n",
       "      <th>1</th>\n",
       "      <td>0.1</td>\n",
       "      <td>False</td>\n",
       "      <td>False</td>\n",
       "      <td>0</td>\n",
       "      <td>-8537705117441354628</td>\n",
       "      <td>-8537705117441354628</td>\n",
       "      <td>5424925143421432450</td>\n",
       "      <td>{'ContactName': '', 'Email': '', 'HomePhone': ...</td>\n",
       "      <td>SpeedZone</td>\n",
       "      <td>Polygon</td>\n",
       "      <td>Red</td>\n",
       "      <td></td>\n",
       "      <td>Alameda das Gardênias,  Condomínio Jardim Vien...</td>\n",
       "      <td>BR-060/APG/60</td>\n",
       "    </tr>\n",
       "    <tr>\n",
       "      <th>79</th>\n",
       "      <td>0.1</td>\n",
       "      <td>False</td>\n",
       "      <td>False</td>\n",
       "      <td>0</td>\n",
       "      <td>-8537705117441354628</td>\n",
       "      <td>-8537705117441354628</td>\n",
       "      <td>2892832169455635513</td>\n",
       "      <td>{'ContactName': '', 'Email': '', 'HomePhone': ...</td>\n",
       "      <td>SpeedZone</td>\n",
       "      <td>Polygon</td>\n",
       "      <td>ForestGreen</td>\n",
       "      <td></td>\n",
       "      <td>Jardim Novo Mundo, Goiânia - GO, 74710-375, Br...</td>\n",
       "      <td>Garagem Cootego</td>\n",
       "    </tr>\n",
       "  </tbody>\n",
       "</table>\n",
       "</div>"
      ]
     },
     "execution_count": 3,
     "metadata": {},
     "output_type": "execute_result"
    }
   ],
   "execution_count": 3
  },
  {
   "metadata": {
    "ExecuteTime": {
     "end_time": "2024-08-05T14:53:34.560493Z",
     "start_time": "2024-08-05T14:53:34.550609Z"
    }
   },
   "cell_type": "code",
   "source": "df_location.describe()",
   "id": "c70ea22d2051e218",
   "outputs": [
    {
     "data": {
      "text/plain": [
       "       OpacityOnMap     Radius       GroupId  OrganisationId    LocationId\n",
       "count     93.000000  93.000000  9.300000e+01    9.300000e+01  9.300000e+01\n",
       "mean       0.102151   1.182796 -8.449992e+18   -8.537705e+18 -2.028179e+17\n",
       "std        0.020739   8.214444  8.458731e+17    1.029550e+03  4.752972e+18\n",
       "min        0.100000   0.000000 -8.537705e+18   -8.537705e+18 -9.072626e+18\n",
       "25%        0.100000   0.000000 -8.537705e+18   -8.537705e+18 -3.575052e+18\n",
       "50%        0.100000   0.000000 -8.537705e+18   -8.537705e+18  4.182452e+17\n",
       "75%        0.100000   0.000000 -8.537705e+18   -8.537705e+18  3.077195e+18\n",
       "max        0.300000  67.000000 -3.804005e+17   -8.537705e+18  9.145026e+18"
      ],
      "text/html": [
       "<div>\n",
       "<style scoped>\n",
       "    .dataframe tbody tr th:only-of-type {\n",
       "        vertical-align: middle;\n",
       "    }\n",
       "\n",
       "    .dataframe tbody tr th {\n",
       "        vertical-align: top;\n",
       "    }\n",
       "\n",
       "    .dataframe thead th {\n",
       "        text-align: right;\n",
       "    }\n",
       "</style>\n",
       "<table border=\"1\" class=\"dataframe\">\n",
       "  <thead>\n",
       "    <tr style=\"text-align: right;\">\n",
       "      <th></th>\n",
       "      <th>OpacityOnMap</th>\n",
       "      <th>Radius</th>\n",
       "      <th>GroupId</th>\n",
       "      <th>OrganisationId</th>\n",
       "      <th>LocationId</th>\n",
       "    </tr>\n",
       "  </thead>\n",
       "  <tbody>\n",
       "    <tr>\n",
       "      <th>count</th>\n",
       "      <td>93.000000</td>\n",
       "      <td>93.000000</td>\n",
       "      <td>9.300000e+01</td>\n",
       "      <td>9.300000e+01</td>\n",
       "      <td>9.300000e+01</td>\n",
       "    </tr>\n",
       "    <tr>\n",
       "      <th>mean</th>\n",
       "      <td>0.102151</td>\n",
       "      <td>1.182796</td>\n",
       "      <td>-8.449992e+18</td>\n",
       "      <td>-8.537705e+18</td>\n",
       "      <td>-2.028179e+17</td>\n",
       "    </tr>\n",
       "    <tr>\n",
       "      <th>std</th>\n",
       "      <td>0.020739</td>\n",
       "      <td>8.214444</td>\n",
       "      <td>8.458731e+17</td>\n",
       "      <td>1.029550e+03</td>\n",
       "      <td>4.752972e+18</td>\n",
       "    </tr>\n",
       "    <tr>\n",
       "      <th>min</th>\n",
       "      <td>0.100000</td>\n",
       "      <td>0.000000</td>\n",
       "      <td>-8.537705e+18</td>\n",
       "      <td>-8.537705e+18</td>\n",
       "      <td>-9.072626e+18</td>\n",
       "    </tr>\n",
       "    <tr>\n",
       "      <th>25%</th>\n",
       "      <td>0.100000</td>\n",
       "      <td>0.000000</td>\n",
       "      <td>-8.537705e+18</td>\n",
       "      <td>-8.537705e+18</td>\n",
       "      <td>-3.575052e+18</td>\n",
       "    </tr>\n",
       "    <tr>\n",
       "      <th>50%</th>\n",
       "      <td>0.100000</td>\n",
       "      <td>0.000000</td>\n",
       "      <td>-8.537705e+18</td>\n",
       "      <td>-8.537705e+18</td>\n",
       "      <td>4.182452e+17</td>\n",
       "    </tr>\n",
       "    <tr>\n",
       "      <th>75%</th>\n",
       "      <td>0.100000</td>\n",
       "      <td>0.000000</td>\n",
       "      <td>-8.537705e+18</td>\n",
       "      <td>-8.537705e+18</td>\n",
       "      <td>3.077195e+18</td>\n",
       "    </tr>\n",
       "    <tr>\n",
       "      <th>max</th>\n",
       "      <td>0.300000</td>\n",
       "      <td>67.000000</td>\n",
       "      <td>-3.804005e+17</td>\n",
       "      <td>-8.537705e+18</td>\n",
       "      <td>9.145026e+18</td>\n",
       "    </tr>\n",
       "  </tbody>\n",
       "</table>\n",
       "</div>"
      ]
     },
     "execution_count": 4,
     "metadata": {},
     "output_type": "execute_result"
    }
   ],
   "execution_count": 4
  },
  {
   "metadata": {
    "ExecuteTime": {
     "end_time": "2024-08-05T14:53:34.563863Z",
     "start_time": "2024-08-05T14:53:34.561109Z"
    }
   },
   "cell_type": "code",
   "source": "df_location.isnull().sum()",
   "id": "a8763163014f1e46",
   "outputs": [
    {
     "data": {
      "text/plain": [
       "OpacityOnMap      0\n",
       "IsTemporary       0\n",
       "IsDeleted         0\n",
       "Radius            0\n",
       "GroupId           0\n",
       "OrganisationId    0\n",
       "LocationId        0\n",
       "ContactDetails    8\n",
       "LocationType      0\n",
       "ShapeType         0\n",
       "ColourOnMap       0\n",
       "ShapeWkt          0\n",
       "Address           0\n",
       "Name              0\n",
       "dtype: int64"
      ]
     },
     "execution_count": 5,
     "metadata": {},
     "output_type": "execute_result"
    }
   ],
   "execution_count": 5
  },
  {
   "metadata": {
    "ExecuteTime": {
     "end_time": "2024-08-05T14:53:34.568564Z",
     "start_time": "2024-08-05T14:53:34.564672Z"
    }
   },
   "cell_type": "code",
   "source": "df_location.dtypes",
   "id": "d4e11d755568282e",
   "outputs": [
    {
     "data": {
      "text/plain": [
       "OpacityOnMap      float64\n",
       "IsTemporary          bool\n",
       "IsDeleted            bool\n",
       "Radius              int64\n",
       "GroupId             int64\n",
       "OrganisationId      int64\n",
       "LocationId          int64\n",
       "ContactDetails     object\n",
       "LocationType       object\n",
       "ShapeType          object\n",
       "ColourOnMap        object\n",
       "ShapeWkt           object\n",
       "Address            object\n",
       "Name               object\n",
       "dtype: object"
      ]
     },
     "execution_count": 6,
     "metadata": {},
     "output_type": "execute_result"
    }
   ],
   "execution_count": 6
  },
  {
   "metadata": {
    "ExecuteTime": {
     "end_time": "2024-08-05T14:53:34.574186Z",
     "start_time": "2024-08-05T14:53:34.569159Z"
    }
   },
   "cell_type": "code",
   "source": "df_location.to_csv('locations.csv', sep=';', decimal=',')",
   "id": "23ff27d5c0306ebe",
   "outputs": [],
   "execution_count": 7
  },
  {
   "metadata": {
    "ExecuteTime": {
     "end_time": "2024-08-05T14:53:43.958490Z",
     "start_time": "2024-08-05T14:53:43.955753Z"
    }
   },
   "cell_type": "code",
   "source": "df_location.columns",
   "id": "b431f3bb79bb56ad",
   "outputs": [
    {
     "data": {
      "text/plain": [
       "Index(['OpacityOnMap', 'IsTemporary', 'IsDeleted', 'Radius', 'GroupId',\n",
       "       'OrganisationId', 'LocationId', 'ContactDetails', 'LocationType',\n",
       "       'ShapeType', 'ColourOnMap', 'ShapeWkt', 'Address', 'Name'],\n",
       "      dtype='object')"
      ]
     },
     "execution_count": 8,
     "metadata": {},
     "output_type": "execute_result"
    }
   ],
   "execution_count": 8
  }
 ],
 "metadata": {
  "kernelspec": {
   "display_name": "Python 3",
   "language": "python",
   "name": "python3"
  },
  "language_info": {
   "codemirror_mode": {
    "name": "ipython",
    "version": 2
   },
   "file_extension": ".py",
   "mimetype": "text/x-python",
   "name": "python",
   "nbconvert_exporter": "python",
   "pygments_lexer": "ipython2",
   "version": "2.7.6"
  }
 },
 "nbformat": 4,
 "nbformat_minor": 5
}
