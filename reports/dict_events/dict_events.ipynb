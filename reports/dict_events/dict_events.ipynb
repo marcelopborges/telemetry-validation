{
 "cells": [
  {
   "cell_type": "code",
   "id": "initial_id",
   "metadata": {
    "collapsed": true,
    "ExecuteTime": {
     "end_time": "2024-07-31T13:04:05.322103Z",
     "start_time": "2024-07-31T13:04:05.319842Z"
    }
   },
   "source": [
    "import duckdb\n",
    "from core.utils import duck_to_pandas, expand_column\n",
    "import os\n",
    "from dotenv import load_dotenv\n",
    "import pandas as pd\n",
    "import matplotlib.pyplot as plt\n",
    "import geopandas as gpd\n",
    "from shapely.geometry import Point\n",
    "from google.cloud import storage\n",
    "import re"
   ],
   "outputs": [],
   "execution_count": 4
  },
  {
   "metadata": {
    "ExecuteTime": {
     "end_time": "2024-07-31T13:04:05.678831Z",
     "start_time": "2024-07-31T13:04:05.669554Z"
    }
   },
   "cell_type": "code",
   "source": [
    "database_path = '/home/marcelo-borges/Documentos/Projetos/SIAN/laboratory/telemetry-validation/db/telemetria.duckdb'\n",
    "query = \"SELECT * FROM dict_events_\"\n",
    "df_dict_events = duck_to_pandas(database_path, query)"
   ],
   "id": "aac8d1c5165839e5",
   "outputs": [],
   "execution_count": 5
  },
  {
   "metadata": {
    "ExecuteTime": {
     "end_time": "2024-07-31T13:04:11.432011Z",
     "start_time": "2024-07-31T13:04:11.424304Z"
    }
   },
   "cell_type": "code",
   "source": "df_dict_events.sample(n=5)",
   "id": "cb608e88af2e7581",
   "outputs": [
    {
     "data": {
      "text/plain": [
       "             EventTypeId EventType  \\\n",
       "161  4745460876959782086    Custom   \n",
       "179  1111141420387027793    Custom   \n",
       "43  -8136342741862439235   Default   \n",
       "17  -3792298274765039854    Hidden   \n",
       "190  1443761028319829598    Custom   \n",
       "\n",
       "                                     Description  \\\n",
       "161         (HP) Temperatura do óleo (Máxima) VW   \n",
       "179             ELETRA - FMS Door Release - tick   \n",
       "43   Over speeding in location - EXCESSIVE SPEED   \n",
       "17                  Active ignition state change   \n",
       "190            (HP) Teste MB Fora da Faixa Verde   \n",
       "\n",
       "                         ValueName FormatType DisplayUnits  \n",
       "161  FMS DM Engine Oil Temperature      Value            C  \n",
       "179               FMS Door Release      Value               \n",
       "43                        No Local   Location         None  \n",
       "17               Tensão da Ignição      Value           mV  \n",
       "190                        Rotação      Value          RPM  "
      ],
      "text/html": [
       "<div>\n",
       "<style scoped>\n",
       "    .dataframe tbody tr th:only-of-type {\n",
       "        vertical-align: middle;\n",
       "    }\n",
       "\n",
       "    .dataframe tbody tr th {\n",
       "        vertical-align: top;\n",
       "    }\n",
       "\n",
       "    .dataframe thead th {\n",
       "        text-align: right;\n",
       "    }\n",
       "</style>\n",
       "<table border=\"1\" class=\"dataframe\">\n",
       "  <thead>\n",
       "    <tr style=\"text-align: right;\">\n",
       "      <th></th>\n",
       "      <th>EventTypeId</th>\n",
       "      <th>EventType</th>\n",
       "      <th>Description</th>\n",
       "      <th>ValueName</th>\n",
       "      <th>FormatType</th>\n",
       "      <th>DisplayUnits</th>\n",
       "    </tr>\n",
       "  </thead>\n",
       "  <tbody>\n",
       "    <tr>\n",
       "      <th>161</th>\n",
       "      <td>4745460876959782086</td>\n",
       "      <td>Custom</td>\n",
       "      <td>(HP) Temperatura do óleo (Máxima) VW</td>\n",
       "      <td>FMS DM Engine Oil Temperature</td>\n",
       "      <td>Value</td>\n",
       "      <td>C</td>\n",
       "    </tr>\n",
       "    <tr>\n",
       "      <th>179</th>\n",
       "      <td>1111141420387027793</td>\n",
       "      <td>Custom</td>\n",
       "      <td>ELETRA - FMS Door Release - tick</td>\n",
       "      <td>FMS Door Release</td>\n",
       "      <td>Value</td>\n",
       "      <td></td>\n",
       "    </tr>\n",
       "    <tr>\n",
       "      <th>43</th>\n",
       "      <td>-8136342741862439235</td>\n",
       "      <td>Default</td>\n",
       "      <td>Over speeding in location - EXCESSIVE SPEED</td>\n",
       "      <td>No Local</td>\n",
       "      <td>Location</td>\n",
       "      <td>None</td>\n",
       "    </tr>\n",
       "    <tr>\n",
       "      <th>17</th>\n",
       "      <td>-3792298274765039854</td>\n",
       "      <td>Hidden</td>\n",
       "      <td>Active ignition state change</td>\n",
       "      <td>Tensão da Ignição</td>\n",
       "      <td>Value</td>\n",
       "      <td>mV</td>\n",
       "    </tr>\n",
       "    <tr>\n",
       "      <th>190</th>\n",
       "      <td>1443761028319829598</td>\n",
       "      <td>Custom</td>\n",
       "      <td>(HP) Teste MB Fora da Faixa Verde</td>\n",
       "      <td>Rotação</td>\n",
       "      <td>Value</td>\n",
       "      <td>RPM</td>\n",
       "    </tr>\n",
       "  </tbody>\n",
       "</table>\n",
       "</div>"
      ]
     },
     "execution_count": 7,
     "metadata": {},
     "output_type": "execute_result"
    }
   ],
   "execution_count": 7
  },
  {
   "metadata": {
    "ExecuteTime": {
     "end_time": "2024-07-31T13:04:27.390129Z",
     "start_time": "2024-07-31T13:04:27.384060Z"
    }
   },
   "cell_type": "code",
   "source": "df_dict_events.describe()",
   "id": "c4b8dde144514099",
   "outputs": [
    {
     "data": {
      "text/plain": [
       "        EventTypeId\n",
       "count  2.150000e+02\n",
       "mean   3.907087e+17\n",
       "std    5.286261e+18\n",
       "min   -9.176671e+18\n",
       "25%   -4.283281e+18\n",
       "50%    7.889341e+17\n",
       "75%    4.938303e+18\n",
       "max    9.158742e+18"
      ],
      "text/html": [
       "<div>\n",
       "<style scoped>\n",
       "    .dataframe tbody tr th:only-of-type {\n",
       "        vertical-align: middle;\n",
       "    }\n",
       "\n",
       "    .dataframe tbody tr th {\n",
       "        vertical-align: top;\n",
       "    }\n",
       "\n",
       "    .dataframe thead th {\n",
       "        text-align: right;\n",
       "    }\n",
       "</style>\n",
       "<table border=\"1\" class=\"dataframe\">\n",
       "  <thead>\n",
       "    <tr style=\"text-align: right;\">\n",
       "      <th></th>\n",
       "      <th>EventTypeId</th>\n",
       "    </tr>\n",
       "  </thead>\n",
       "  <tbody>\n",
       "    <tr>\n",
       "      <th>count</th>\n",
       "      <td>2.150000e+02</td>\n",
       "    </tr>\n",
       "    <tr>\n",
       "      <th>mean</th>\n",
       "      <td>3.907087e+17</td>\n",
       "    </tr>\n",
       "    <tr>\n",
       "      <th>std</th>\n",
       "      <td>5.286261e+18</td>\n",
       "    </tr>\n",
       "    <tr>\n",
       "      <th>min</th>\n",
       "      <td>-9.176671e+18</td>\n",
       "    </tr>\n",
       "    <tr>\n",
       "      <th>25%</th>\n",
       "      <td>-4.283281e+18</td>\n",
       "    </tr>\n",
       "    <tr>\n",
       "      <th>50%</th>\n",
       "      <td>7.889341e+17</td>\n",
       "    </tr>\n",
       "    <tr>\n",
       "      <th>75%</th>\n",
       "      <td>4.938303e+18</td>\n",
       "    </tr>\n",
       "    <tr>\n",
       "      <th>max</th>\n",
       "      <td>9.158742e+18</td>\n",
       "    </tr>\n",
       "  </tbody>\n",
       "</table>\n",
       "</div>"
      ]
     },
     "execution_count": 8,
     "metadata": {},
     "output_type": "execute_result"
    }
   ],
   "execution_count": 8
  },
  {
   "metadata": {
    "ExecuteTime": {
     "end_time": "2024-07-31T13:04:34.463931Z",
     "start_time": "2024-07-31T13:04:34.460883Z"
    }
   },
   "cell_type": "code",
   "source": "df_dict_events.dtypes",
   "id": "875ed8f75a326b07",
   "outputs": [
    {
     "data": {
      "text/plain": [
       "EventTypeId      int64\n",
       "EventType       object\n",
       "Description     object\n",
       "ValueName       object\n",
       "FormatType      object\n",
       "DisplayUnits    object\n",
       "dtype: object"
      ]
     },
     "execution_count": 9,
     "metadata": {},
     "output_type": "execute_result"
    }
   ],
   "execution_count": 9
  },
  {
   "metadata": {
    "ExecuteTime": {
     "end_time": "2024-07-31T13:04:42.062576Z",
     "start_time": "2024-07-31T13:04:42.059212Z"
    }
   },
   "cell_type": "code",
   "source": "df_dict_events.isna().sum()",
   "id": "8aa0401d0de8c4f6",
   "outputs": [
    {
     "data": {
      "text/plain": [
       "EventTypeId       0\n",
       "EventType         0\n",
       "Description       0\n",
       "ValueName       108\n",
       "FormatType      108\n",
       "DisplayUnits    115\n",
       "dtype: int64"
      ]
     },
     "execution_count": 10,
     "metadata": {},
     "output_type": "execute_result"
    }
   ],
   "execution_count": 10
  },
  {
   "metadata": {
    "ExecuteTime": {
     "end_time": "2024-07-31T13:05:44.264196Z",
     "start_time": "2024-07-31T13:05:44.258256Z"
    }
   },
   "cell_type": "code",
   "source": "df_dict_events[df_dict_events['ValueName'].isna()]",
   "id": "bb742804edd56031",
   "outputs": [
    {
     "data": {
      "text/plain": [
       "             EventTypeId     EventType                          Description  \\\n",
       "0   -9107232402036844231        System                        * Input 2 Low   \n",
       "1   -8466048650882854518        System                       * Input 2 High   \n",
       "2   -8462656232830278080        Hidden                   Active Trail point   \n",
       "3   -8090199106001736009       Default         * Low Remote Control Battery   \n",
       "4   -7417774485302453264        System       Fora da Faixa Verde - obsoleto   \n",
       "..                   ...           ...                                  ...   \n",
       "154 -6087879220239231094        Hidden   Charging status whilst out of trip   \n",
       "156  4748629011999503251  HosViolation                      862:Weekly Rest   \n",
       "160 -2977226927105487812        Custom  (HP) Ignição Ligada motor desligado   \n",
       "192  -529328588670984177        Custom                    FMS clutch switch   \n",
       "210  5928173277131215037        Custom          (HP) Marcha Lenta Excessiva   \n",
       "\n",
       "    ValueName FormatType DisplayUnits  \n",
       "0        None       None         None  \n",
       "1        None       None         None  \n",
       "2        None       None         None  \n",
       "3        None       None         None  \n",
       "4        None       None         None  \n",
       "..        ...        ...          ...  \n",
       "154      None       None         None  \n",
       "156      None       None         None  \n",
       "160      None       None         None  \n",
       "192      None       None         None  \n",
       "210      None       None         None  \n",
       "\n",
       "[108 rows x 6 columns]"
      ],
      "text/html": [
       "<div>\n",
       "<style scoped>\n",
       "    .dataframe tbody tr th:only-of-type {\n",
       "        vertical-align: middle;\n",
       "    }\n",
       "\n",
       "    .dataframe tbody tr th {\n",
       "        vertical-align: top;\n",
       "    }\n",
       "\n",
       "    .dataframe thead th {\n",
       "        text-align: right;\n",
       "    }\n",
       "</style>\n",
       "<table border=\"1\" class=\"dataframe\">\n",
       "  <thead>\n",
       "    <tr style=\"text-align: right;\">\n",
       "      <th></th>\n",
       "      <th>EventTypeId</th>\n",
       "      <th>EventType</th>\n",
       "      <th>Description</th>\n",
       "      <th>ValueName</th>\n",
       "      <th>FormatType</th>\n",
       "      <th>DisplayUnits</th>\n",
       "    </tr>\n",
       "  </thead>\n",
       "  <tbody>\n",
       "    <tr>\n",
       "      <th>0</th>\n",
       "      <td>-9107232402036844231</td>\n",
       "      <td>System</td>\n",
       "      <td>* Input 2 Low</td>\n",
       "      <td>None</td>\n",
       "      <td>None</td>\n",
       "      <td>None</td>\n",
       "    </tr>\n",
       "    <tr>\n",
       "      <th>1</th>\n",
       "      <td>-8466048650882854518</td>\n",
       "      <td>System</td>\n",
       "      <td>* Input 2 High</td>\n",
       "      <td>None</td>\n",
       "      <td>None</td>\n",
       "      <td>None</td>\n",
       "    </tr>\n",
       "    <tr>\n",
       "      <th>2</th>\n",
       "      <td>-8462656232830278080</td>\n",
       "      <td>Hidden</td>\n",
       "      <td>Active Trail point</td>\n",
       "      <td>None</td>\n",
       "      <td>None</td>\n",
       "      <td>None</td>\n",
       "    </tr>\n",
       "    <tr>\n",
       "      <th>3</th>\n",
       "      <td>-8090199106001736009</td>\n",
       "      <td>Default</td>\n",
       "      <td>* Low Remote Control Battery</td>\n",
       "      <td>None</td>\n",
       "      <td>None</td>\n",
       "      <td>None</td>\n",
       "    </tr>\n",
       "    <tr>\n",
       "      <th>4</th>\n",
       "      <td>-7417774485302453264</td>\n",
       "      <td>System</td>\n",
       "      <td>Fora da Faixa Verde - obsoleto</td>\n",
       "      <td>None</td>\n",
       "      <td>None</td>\n",
       "      <td>None</td>\n",
       "    </tr>\n",
       "    <tr>\n",
       "      <th>...</th>\n",
       "      <td>...</td>\n",
       "      <td>...</td>\n",
       "      <td>...</td>\n",
       "      <td>...</td>\n",
       "      <td>...</td>\n",
       "      <td>...</td>\n",
       "    </tr>\n",
       "    <tr>\n",
       "      <th>154</th>\n",
       "      <td>-6087879220239231094</td>\n",
       "      <td>Hidden</td>\n",
       "      <td>Charging status whilst out of trip</td>\n",
       "      <td>None</td>\n",
       "      <td>None</td>\n",
       "      <td>None</td>\n",
       "    </tr>\n",
       "    <tr>\n",
       "      <th>156</th>\n",
       "      <td>4748629011999503251</td>\n",
       "      <td>HosViolation</td>\n",
       "      <td>862:Weekly Rest</td>\n",
       "      <td>None</td>\n",
       "      <td>None</td>\n",
       "      <td>None</td>\n",
       "    </tr>\n",
       "    <tr>\n",
       "      <th>160</th>\n",
       "      <td>-2977226927105487812</td>\n",
       "      <td>Custom</td>\n",
       "      <td>(HP) Ignição Ligada motor desligado</td>\n",
       "      <td>None</td>\n",
       "      <td>None</td>\n",
       "      <td>None</td>\n",
       "    </tr>\n",
       "    <tr>\n",
       "      <th>192</th>\n",
       "      <td>-529328588670984177</td>\n",
       "      <td>Custom</td>\n",
       "      <td>FMS clutch switch</td>\n",
       "      <td>None</td>\n",
       "      <td>None</td>\n",
       "      <td>None</td>\n",
       "    </tr>\n",
       "    <tr>\n",
       "      <th>210</th>\n",
       "      <td>5928173277131215037</td>\n",
       "      <td>Custom</td>\n",
       "      <td>(HP) Marcha Lenta Excessiva</td>\n",
       "      <td>None</td>\n",
       "      <td>None</td>\n",
       "      <td>None</td>\n",
       "    </tr>\n",
       "  </tbody>\n",
       "</table>\n",
       "<p>108 rows × 6 columns</p>\n",
       "</div>"
      ]
     },
     "execution_count": 13,
     "metadata": {},
     "output_type": "execute_result"
    }
   ],
   "execution_count": 13
  },
  {
   "metadata": {
    "ExecuteTime": {
     "end_time": "2024-07-31T13:06:36.260337Z",
     "start_time": "2024-07-31T13:06:36.256815Z"
    }
   },
   "cell_type": "code",
   "source": "df_dict_events.to_csv('dict_events.csv', sep=';',decimal=',')",
   "id": "377a935c1df4f04f",
   "outputs": [],
   "execution_count": 14
  },
  {
   "metadata": {},
   "cell_type": "code",
   "outputs": [],
   "execution_count": null,
   "source": "",
   "id": "212121ac7cd43852"
  }
 ],
 "metadata": {
  "kernelspec": {
   "display_name": "Python 3",
   "language": "python",
   "name": "python3"
  },
  "language_info": {
   "codemirror_mode": {
    "name": "ipython",
    "version": 2
   },
   "file_extension": ".py",
   "mimetype": "text/x-python",
   "name": "python",
   "nbconvert_exporter": "python",
   "pygments_lexer": "ipython2",
   "version": "2.7.6"
  }
 },
 "nbformat": 4,
 "nbformat_minor": 5
}
