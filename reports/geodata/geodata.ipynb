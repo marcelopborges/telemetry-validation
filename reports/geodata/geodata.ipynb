{
 "cells": [
  {
   "cell_type": "code",
   "id": "initial_id",
   "metadata": {
    "collapsed": true,
    "ExecuteTime": {
     "end_time": "2024-08-05T14:16:47.181053Z",
     "start_time": "2024-08-05T14:16:47.178836Z"
    }
   },
   "source": [
    "import duckdb\n",
    "from core.utils import duck_to_pandas, expand_column\n",
    "import os\n",
    "from dotenv import load_dotenv\n",
    "import pandas as pd\n",
    "import matplotlib.pyplot as plt\n",
    "import geopandas as gpd\n",
    "from shapely.geometry import Point\n",
    "from google.cloud import storage\n",
    "import re"
   ],
   "outputs": [],
   "execution_count": 2
  },
  {
   "cell_type": "code",
   "id": "9e3c1b29296f86a3",
   "metadata": {
    "ExecuteTime": {
     "end_time": "2024-08-05T14:16:47.363802Z",
     "start_time": "2024-08-05T14:16:47.181911Z"
    }
   },
   "source": [
    "database_path = '/home/marcelo-borges/Documentos/Projetos/SIAN/laboratory/telemetry-validation/db/telemetria.duckdb'\n",
    "query = \"SELECT * FROM geodata\"\n",
    "df_geodata = duck_to_pandas(database_path, query)"
   ],
   "outputs": [],
   "execution_count": 3
  },
  {
   "cell_type": "code",
   "id": "7665871611e0edde",
   "metadata": {
    "ExecuteTime": {
     "end_time": "2024-08-05T14:16:47.377343Z",
     "start_time": "2024-08-05T14:16:47.364830Z"
    }
   },
   "source": [
    "df_geodata.sample(n=5)"
   ],
   "outputs": [
    {
     "data": {
      "text/plain": [
       "     registration description geometry_type  \\\n",
       "196       NLB6B04       20361    LineString   \n",
       "282       NLC7694       20357    LineString   \n",
       "417       NJY3685       20360    LineString   \n",
       "373       NLB6B04       20361    LineString   \n",
       "1290      NKE9854       20224    LineString   \n",
       "\n",
       "                                            coordinates execution_date  \\\n",
       "196   [[-49.301308, -16.702576], [-49.301419, -16.70...     2024-03-21   \n",
       "282   [[-49.301396, -16.702567], [-49.30157, -16.702...     2024-03-29   \n",
       "417   [[-49.301388, -16.702528], [-49.301471, -16.70...     2024-04-12   \n",
       "373   [[-49.301241, -16.702917], [-49.301275, -16.70...     2024-04-08   \n",
       "1290  [[-49.301373, -16.704071], [-49.301415, -16.70...     2024-07-10   \n",
       "\n",
       "                                                   hash  \n",
       "196   644d21a5d95e572b99132e3c682c24c601311f4b3f58e2...  \n",
       "282   a9c56124d27f60b7f5e4b5357551b3b8a650cee2b58624...  \n",
       "417   e130e238ef3be603dd99a610d234aaf272864b5bfdd029...  \n",
       "373   2e764ceb40e7dfaecb14f6ba1a210f8dcbbaff61c4b7bc...  \n",
       "1290  040566d2cf237ca82f63a06a9632c8c640e560a6dc0405...  "
      ],
      "text/html": [
       "<div>\n",
       "<style scoped>\n",
       "    .dataframe tbody tr th:only-of-type {\n",
       "        vertical-align: middle;\n",
       "    }\n",
       "\n",
       "    .dataframe tbody tr th {\n",
       "        vertical-align: top;\n",
       "    }\n",
       "\n",
       "    .dataframe thead th {\n",
       "        text-align: right;\n",
       "    }\n",
       "</style>\n",
       "<table border=\"1\" class=\"dataframe\">\n",
       "  <thead>\n",
       "    <tr style=\"text-align: right;\">\n",
       "      <th></th>\n",
       "      <th>registration</th>\n",
       "      <th>description</th>\n",
       "      <th>geometry_type</th>\n",
       "      <th>coordinates</th>\n",
       "      <th>execution_date</th>\n",
       "      <th>hash</th>\n",
       "    </tr>\n",
       "  </thead>\n",
       "  <tbody>\n",
       "    <tr>\n",
       "      <th>196</th>\n",
       "      <td>NLB6B04</td>\n",
       "      <td>20361</td>\n",
       "      <td>LineString</td>\n",
       "      <td>[[-49.301308, -16.702576], [-49.301419, -16.70...</td>\n",
       "      <td>2024-03-21</td>\n",
       "      <td>644d21a5d95e572b99132e3c682c24c601311f4b3f58e2...</td>\n",
       "    </tr>\n",
       "    <tr>\n",
       "      <th>282</th>\n",
       "      <td>NLC7694</td>\n",
       "      <td>20357</td>\n",
       "      <td>LineString</td>\n",
       "      <td>[[-49.301396, -16.702567], [-49.30157, -16.702...</td>\n",
       "      <td>2024-03-29</td>\n",
       "      <td>a9c56124d27f60b7f5e4b5357551b3b8a650cee2b58624...</td>\n",
       "    </tr>\n",
       "    <tr>\n",
       "      <th>417</th>\n",
       "      <td>NJY3685</td>\n",
       "      <td>20360</td>\n",
       "      <td>LineString</td>\n",
       "      <td>[[-49.301388, -16.702528], [-49.301471, -16.70...</td>\n",
       "      <td>2024-04-12</td>\n",
       "      <td>e130e238ef3be603dd99a610d234aaf272864b5bfdd029...</td>\n",
       "    </tr>\n",
       "    <tr>\n",
       "      <th>373</th>\n",
       "      <td>NLB6B04</td>\n",
       "      <td>20361</td>\n",
       "      <td>LineString</td>\n",
       "      <td>[[-49.301241, -16.702917], [-49.301275, -16.70...</td>\n",
       "      <td>2024-04-08</td>\n",
       "      <td>2e764ceb40e7dfaecb14f6ba1a210f8dcbbaff61c4b7bc...</td>\n",
       "    </tr>\n",
       "    <tr>\n",
       "      <th>1290</th>\n",
       "      <td>NKE9854</td>\n",
       "      <td>20224</td>\n",
       "      <td>LineString</td>\n",
       "      <td>[[-49.301373, -16.704071], [-49.301415, -16.70...</td>\n",
       "      <td>2024-07-10</td>\n",
       "      <td>040566d2cf237ca82f63a06a9632c8c640e560a6dc0405...</td>\n",
       "    </tr>\n",
       "  </tbody>\n",
       "</table>\n",
       "</div>"
      ]
     },
     "execution_count": 4,
     "metadata": {},
     "output_type": "execute_result"
    }
   ],
   "execution_count": 4
  },
  {
   "cell_type": "code",
   "id": "cbc39bcab9d8a5d4",
   "metadata": {
    "ExecuteTime": {
     "end_time": "2024-08-05T14:16:47.417149Z",
     "start_time": "2024-08-05T14:16:47.378341Z"
    }
   },
   "source": [
    "df_geodata.describe()"
   ],
   "outputs": [
    {
     "data": {
      "text/plain": [
       "       registration description geometry_type                 coordinates  \\\n",
       "count          1392        1392          1392                        1392   \n",
       "unique           28          28             1                        1349   \n",
       "top         NJY3685       20360    LineString  [[-49.301364, -16.704743]]   \n",
       "freq            136         136          1392                           5   \n",
       "\n",
       "       execution_date                                               hash  \n",
       "count            1392                                               1392  \n",
       "unique            136                                               1392  \n",
       "top        2024-07-12  7564c8a42e9c2b914d5bf3efed5087dfd7fbb59dc1970a...  \n",
       "freq               24                                                  1  "
      ],
      "text/html": [
       "<div>\n",
       "<style scoped>\n",
       "    .dataframe tbody tr th:only-of-type {\n",
       "        vertical-align: middle;\n",
       "    }\n",
       "\n",
       "    .dataframe tbody tr th {\n",
       "        vertical-align: top;\n",
       "    }\n",
       "\n",
       "    .dataframe thead th {\n",
       "        text-align: right;\n",
       "    }\n",
       "</style>\n",
       "<table border=\"1\" class=\"dataframe\">\n",
       "  <thead>\n",
       "    <tr style=\"text-align: right;\">\n",
       "      <th></th>\n",
       "      <th>registration</th>\n",
       "      <th>description</th>\n",
       "      <th>geometry_type</th>\n",
       "      <th>coordinates</th>\n",
       "      <th>execution_date</th>\n",
       "      <th>hash</th>\n",
       "    </tr>\n",
       "  </thead>\n",
       "  <tbody>\n",
       "    <tr>\n",
       "      <th>count</th>\n",
       "      <td>1392</td>\n",
       "      <td>1392</td>\n",
       "      <td>1392</td>\n",
       "      <td>1392</td>\n",
       "      <td>1392</td>\n",
       "      <td>1392</td>\n",
       "    </tr>\n",
       "    <tr>\n",
       "      <th>unique</th>\n",
       "      <td>28</td>\n",
       "      <td>28</td>\n",
       "      <td>1</td>\n",
       "      <td>1349</td>\n",
       "      <td>136</td>\n",
       "      <td>1392</td>\n",
       "    </tr>\n",
       "    <tr>\n",
       "      <th>top</th>\n",
       "      <td>NJY3685</td>\n",
       "      <td>20360</td>\n",
       "      <td>LineString</td>\n",
       "      <td>[[-49.301364, -16.704743]]</td>\n",
       "      <td>2024-07-12</td>\n",
       "      <td>7564c8a42e9c2b914d5bf3efed5087dfd7fbb59dc1970a...</td>\n",
       "    </tr>\n",
       "    <tr>\n",
       "      <th>freq</th>\n",
       "      <td>136</td>\n",
       "      <td>136</td>\n",
       "      <td>1392</td>\n",
       "      <td>5</td>\n",
       "      <td>24</td>\n",
       "      <td>1</td>\n",
       "    </tr>\n",
       "  </tbody>\n",
       "</table>\n",
       "</div>"
      ]
     },
     "execution_count": 5,
     "metadata": {},
     "output_type": "execute_result"
    }
   ],
   "execution_count": 5
  },
  {
   "cell_type": "code",
   "id": "40799e5befba64d9",
   "metadata": {
    "ExecuteTime": {
     "end_time": "2024-08-05T14:16:47.426073Z",
     "start_time": "2024-08-05T14:16:47.419161Z"
    }
   },
   "source": [
    "df_geodata.dtypes"
   ],
   "outputs": [
    {
     "data": {
      "text/plain": [
       "registration      object\n",
       "description       object\n",
       "geometry_type     object\n",
       "coordinates       object\n",
       "execution_date    object\n",
       "hash              object\n",
       "dtype: object"
      ]
     },
     "execution_count": 6,
     "metadata": {},
     "output_type": "execute_result"
    }
   ],
   "execution_count": 6
  },
  {
   "cell_type": "code",
   "id": "60fd6d713848e61b",
   "metadata": {
    "ExecuteTime": {
     "end_time": "2024-08-05T14:16:47.430881Z",
     "start_time": "2024-08-05T14:16:47.426857Z"
    }
   },
   "source": [
    "df_geodata.isna().sum()"
   ],
   "outputs": [
    {
     "data": {
      "text/plain": [
       "registration      0\n",
       "description       0\n",
       "geometry_type     0\n",
       "coordinates       0\n",
       "execution_date    0\n",
       "hash              0\n",
       "dtype: int64"
      ]
     },
     "execution_count": 7,
     "metadata": {},
     "output_type": "execute_result"
    }
   ],
   "execution_count": 7
  },
  {
   "cell_type": "code",
   "id": "4bfddb003ec8f390",
   "metadata": {
    "ExecuteTime": {
     "end_time": "2024-08-05T14:16:48.092909Z",
     "start_time": "2024-08-05T14:16:47.431508Z"
    }
   },
   "source": [
    "df_geodata.to_csv('geodata.csv',sep=';',decimal=',')"
   ],
   "outputs": [],
   "execution_count": 8
  },
  {
   "cell_type": "code",
   "id": "18ae94f5b2e5cecb",
   "metadata": {
    "ExecuteTime": {
     "end_time": "2024-08-05T14:16:48.134660Z",
     "start_time": "2024-08-05T14:16:48.093835Z"
    }
   },
   "source": [
    "df_geodata.sample(n=100).to_csv('geodata_sample.csv',sep=';',decimal=',')"
   ],
   "outputs": [],
   "execution_count": 9
  },
  {
   "cell_type": "code",
   "id": "1ef9ed25",
   "metadata": {
    "ExecuteTime": {
     "end_time": "2024-08-05T14:21:52.638288Z",
     "start_time": "2024-08-05T14:21:52.631734Z"
    }
   },
   "source": "df_geodata.sample(n=100)\n",
   "outputs": [
    {
     "data": {
      "text/plain": [
       "     registration description geometry_type  \\\n",
       "270       NLB6B14       20362    LineString   \n",
       "1091      ONW2749       20019    LineString   \n",
       "136       NLB6B04       20361    LineString   \n",
       "817       ONU6399       20018    LineString   \n",
       "184       SCQ3A44       20805    LineString   \n",
       "...           ...         ...           ...   \n",
       "934       NLC7694       20357    LineString   \n",
       "338       NKN2285       20386    LineString   \n",
       "542       NLC7694       20357    LineString   \n",
       "202       NLC7694       20357    LineString   \n",
       "717       ONW2749       20019    LineString   \n",
       "\n",
       "                                            coordinates execution_date  \\\n",
       "270   [[-49.301395, -16.702534], [-49.301441, -16.70...     2024-03-28   \n",
       "1091  [[-49.301763, -16.704244], [-49.301881, -16.70...     2024-06-20   \n",
       "136   [[-49.301343, -16.70255], [-49.301377, -16.702...     2024-03-15   \n",
       "817   [[-49.301671, -16.704269], [-49.301668, -16.70...     2024-05-23   \n",
       "184   [[-49.301915, -16.704067], [-49.301871, -16.70...     2024-03-20   \n",
       "...                                                 ...            ...   \n",
       "934   [[-49.301263, -16.703197], [-49.301237, -16.70...     2024-06-03   \n",
       "338   [[-49.301337, -16.703264], [-49.301348, -16.70...     2024-04-04   \n",
       "542   [[-49.30118, -16.703673], [-49.301212, -16.703...     2024-04-24   \n",
       "202   [[-49.301407, -16.702443], [-49.301418, -16.70...     2024-03-21   \n",
       "717   [[-49.301508, -16.704287], [-49.301423, -16.70...     2024-05-12   \n",
       "\n",
       "                                                   hash  \n",
       "270   62a65edc7187af09ffd76b40d534168906d18df89bbfba...  \n",
       "1091  065b3f0198642ca6d68f08c4db6a2f80e42246a9a72437...  \n",
       "136   65fe1b4dba92844ca17e96ae722f401020b713d46291e6...  \n",
       "817   4d04b5f6491b1eaf47c6f339cad5f112496dd2f54e6f24...  \n",
       "184   0334be874a96e23ded6547a1d74a45c5b68613482f065e...  \n",
       "...                                                 ...  \n",
       "934   9778188ca245d3d6cdf8e9bc9df1a70048eb1ca216e020...  \n",
       "338   ea46a2b55628c87df67fe1a2f1e040029204df7728aca3...  \n",
       "542   7a9fe5222d8c9fbe13d19a04ca99a34c83c979d6ee9b73...  \n",
       "202   83263ffc3d43119a79b15c938b2004dc002992cb80088a...  \n",
       "717   fbae79d38795d3aa3121b6b505c04a19f9ca869dbf720e...  \n",
       "\n",
       "[100 rows x 6 columns]"
      ],
      "text/html": [
       "<div>\n",
       "<style scoped>\n",
       "    .dataframe tbody tr th:only-of-type {\n",
       "        vertical-align: middle;\n",
       "    }\n",
       "\n",
       "    .dataframe tbody tr th {\n",
       "        vertical-align: top;\n",
       "    }\n",
       "\n",
       "    .dataframe thead th {\n",
       "        text-align: right;\n",
       "    }\n",
       "</style>\n",
       "<table border=\"1\" class=\"dataframe\">\n",
       "  <thead>\n",
       "    <tr style=\"text-align: right;\">\n",
       "      <th></th>\n",
       "      <th>registration</th>\n",
       "      <th>description</th>\n",
       "      <th>geometry_type</th>\n",
       "      <th>coordinates</th>\n",
       "      <th>execution_date</th>\n",
       "      <th>hash</th>\n",
       "    </tr>\n",
       "  </thead>\n",
       "  <tbody>\n",
       "    <tr>\n",
       "      <th>270</th>\n",
       "      <td>NLB6B14</td>\n",
       "      <td>20362</td>\n",
       "      <td>LineString</td>\n",
       "      <td>[[-49.301395, -16.702534], [-49.301441, -16.70...</td>\n",
       "      <td>2024-03-28</td>\n",
       "      <td>62a65edc7187af09ffd76b40d534168906d18df89bbfba...</td>\n",
       "    </tr>\n",
       "    <tr>\n",
       "      <th>1091</th>\n",
       "      <td>ONW2749</td>\n",
       "      <td>20019</td>\n",
       "      <td>LineString</td>\n",
       "      <td>[[-49.301763, -16.704244], [-49.301881, -16.70...</td>\n",
       "      <td>2024-06-20</td>\n",
       "      <td>065b3f0198642ca6d68f08c4db6a2f80e42246a9a72437...</td>\n",
       "    </tr>\n",
       "    <tr>\n",
       "      <th>136</th>\n",
       "      <td>NLB6B04</td>\n",
       "      <td>20361</td>\n",
       "      <td>LineString</td>\n",
       "      <td>[[-49.301343, -16.70255], [-49.301377, -16.702...</td>\n",
       "      <td>2024-03-15</td>\n",
       "      <td>65fe1b4dba92844ca17e96ae722f401020b713d46291e6...</td>\n",
       "    </tr>\n",
       "    <tr>\n",
       "      <th>817</th>\n",
       "      <td>ONU6399</td>\n",
       "      <td>20018</td>\n",
       "      <td>LineString</td>\n",
       "      <td>[[-49.301671, -16.704269], [-49.301668, -16.70...</td>\n",
       "      <td>2024-05-23</td>\n",
       "      <td>4d04b5f6491b1eaf47c6f339cad5f112496dd2f54e6f24...</td>\n",
       "    </tr>\n",
       "    <tr>\n",
       "      <th>184</th>\n",
       "      <td>SCQ3A44</td>\n",
       "      <td>20805</td>\n",
       "      <td>LineString</td>\n",
       "      <td>[[-49.301915, -16.704067], [-49.301871, -16.70...</td>\n",
       "      <td>2024-03-20</td>\n",
       "      <td>0334be874a96e23ded6547a1d74a45c5b68613482f065e...</td>\n",
       "    </tr>\n",
       "    <tr>\n",
       "      <th>...</th>\n",
       "      <td>...</td>\n",
       "      <td>...</td>\n",
       "      <td>...</td>\n",
       "      <td>...</td>\n",
       "      <td>...</td>\n",
       "      <td>...</td>\n",
       "    </tr>\n",
       "    <tr>\n",
       "      <th>934</th>\n",
       "      <td>NLC7694</td>\n",
       "      <td>20357</td>\n",
       "      <td>LineString</td>\n",
       "      <td>[[-49.301263, -16.703197], [-49.301237, -16.70...</td>\n",
       "      <td>2024-06-03</td>\n",
       "      <td>9778188ca245d3d6cdf8e9bc9df1a70048eb1ca216e020...</td>\n",
       "    </tr>\n",
       "    <tr>\n",
       "      <th>338</th>\n",
       "      <td>NKN2285</td>\n",
       "      <td>20386</td>\n",
       "      <td>LineString</td>\n",
       "      <td>[[-49.301337, -16.703264], [-49.301348, -16.70...</td>\n",
       "      <td>2024-04-04</td>\n",
       "      <td>ea46a2b55628c87df67fe1a2f1e040029204df7728aca3...</td>\n",
       "    </tr>\n",
       "    <tr>\n",
       "      <th>542</th>\n",
       "      <td>NLC7694</td>\n",
       "      <td>20357</td>\n",
       "      <td>LineString</td>\n",
       "      <td>[[-49.30118, -16.703673], [-49.301212, -16.703...</td>\n",
       "      <td>2024-04-24</td>\n",
       "      <td>7a9fe5222d8c9fbe13d19a04ca99a34c83c979d6ee9b73...</td>\n",
       "    </tr>\n",
       "    <tr>\n",
       "      <th>202</th>\n",
       "      <td>NLC7694</td>\n",
       "      <td>20357</td>\n",
       "      <td>LineString</td>\n",
       "      <td>[[-49.301407, -16.702443], [-49.301418, -16.70...</td>\n",
       "      <td>2024-03-21</td>\n",
       "      <td>83263ffc3d43119a79b15c938b2004dc002992cb80088a...</td>\n",
       "    </tr>\n",
       "    <tr>\n",
       "      <th>717</th>\n",
       "      <td>ONW2749</td>\n",
       "      <td>20019</td>\n",
       "      <td>LineString</td>\n",
       "      <td>[[-49.301508, -16.704287], [-49.301423, -16.70...</td>\n",
       "      <td>2024-05-12</td>\n",
       "      <td>fbae79d38795d3aa3121b6b505c04a19f9ca869dbf720e...</td>\n",
       "    </tr>\n",
       "  </tbody>\n",
       "</table>\n",
       "<p>100 rows × 6 columns</p>\n",
       "</div>"
      ]
     },
     "execution_count": 10,
     "metadata": {},
     "output_type": "execute_result"
    }
   ],
   "execution_count": 10
  },
  {
   "metadata": {
    "ExecuteTime": {
     "end_time": "2024-08-05T14:46:01.059134Z",
     "start_time": "2024-08-05T14:46:01.056600Z"
    }
   },
   "cell_type": "code",
   "source": "df_geodata.columns",
   "id": "c038ff1d82a23e76",
   "outputs": [
    {
     "data": {
      "text/plain": [
       "Index(['registration', 'description', 'geometry_type', 'coordinates',\n",
       "       'execution_date', 'hash'],\n",
       "      dtype='object')"
      ]
     },
     "execution_count": 12,
     "metadata": {},
     "output_type": "execute_result"
    }
   ],
   "execution_count": 12
  },
  {
   "metadata": {},
   "cell_type": "code",
   "outputs": [],
   "execution_count": null,
   "source": "",
   "id": "f93f5d3474cdfdee"
  }
 ],
 "metadata": {
  "kernelspec": {
   "display_name": "Python 3",
   "language": "python",
   "name": "python3"
  },
  "language_info": {
   "codemirror_mode": {
    "name": "ipython",
    "version": 3
   },
   "file_extension": ".py",
   "mimetype": "text/x-python",
   "name": "python",
   "nbconvert_exporter": "python",
   "pygments_lexer": "ipython3",
   "version": "3.12.3"
  }
 },
 "nbformat": 4,
 "nbformat_minor": 5
}
