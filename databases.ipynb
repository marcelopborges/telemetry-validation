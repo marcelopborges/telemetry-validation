{
 "cells": [
  {
   "cell_type": "code",
   "execution_count": 2,
   "metadata": {},
   "outputs": [],
   "source": [
    "import duckdb\n",
    "import os\n",
    "from dotenv import load_dotenv\n",
    "import pandas as pd\n",
    "import matplotlib.pyplot as plt\n",
    "import geopandas as gpd\n",
    "from shapely.geometry import Point\n",
    "load_dotenv()\n",
    "\n",
    "# Recuperar as variáveis de ambiente\n",
    "hmac_access = os.getenv('HMAC_ACCESS_KEY_ID')\n",
    "hmac_secret = os.getenv('HMAC_SECRET_ACCESS_KEY')\n",
    "\n",
    "# Conectar ao DuckDB\n",
    "con = duckdb.connect(database='telemetria.duckdb')\n",
    "\n",
    "\n",
    "duckdb.sql(\"LOAD httpfs;\")\n",
    "duckdb.sql(f\"SET s3_access_key_id='{hmac_access}';\")\n",
    "duckdb.sql(f\"SET s3_secret_access_key='{hmac_secret}';\")\n",
    "duckdb.sql(\"SET s3_endpoint='storage.googleapis.com'\")\n",
    "results = duckdb.sql(\"SELECT * FROM read_parquet('gs://hp-operacao-raw/mix/geodata/geodata_*.parquet', union_by_name=True)\").df()\n"
   ]
  },
  {
   "cell_type": "code",
   "execution_count": 3,
   "metadata": {},
   "outputs": [],
   "source": [
    "# Salvar o DataFrame em uma nova tabela no DuckDB\n",
    "con.execute(\"CREATE TABLE geodata AS SELECT * FROM results\")\n",
    "\n",
    "# Verificar se a tabela foi criada corretamente\n",
    "# con.execute(\"SELECT * FROM positions LIMIT 10\").df()\n",
    "con.close()\n"
   ]
  },
  {
   "cell_type": "code",
   "execution_count": 4,
   "metadata": {},
   "outputs": [],
   "source": [
    "con.close()"
   ]
  },
  {
   "cell_type": "code",
   "execution_count": 6,
   "metadata": {},
   "outputs": [],
   "source": [
    "con = duckdb.connect(database='telemetria.duckdb')"
   ]
  },
  {
   "cell_type": "code",
   "execution_count": 1,
   "metadata": {},
   "outputs": [],
   "source": [
    "import duckdb\n",
    "import os\n",
    "from dotenv import load_dotenv\n",
    "\n",
    "# Carregar as variáveis de ambiente\n",
    "load_dotenv()\n",
    "hmac_access = os.getenv('HMAC_ACCESS_KEY_ID')\n",
    "hmac_secret = os.getenv('HMAC_SECRET_ACCESS_KEY')\n",
    "\n",
    "# Conectar ao DuckDB\n",
    "con = duckdb.connect(database='telemetria.duckdb')\n",
    "\n",
    "# Configurar DuckDB para acessar o Google Cloud Storage\n",
    "duckdb.sql(\"LOAD httpfs;\")\n",
    "duckdb.sql(f\"SET s3_access_key_id='{hmac_access}';\")\n",
    "duckdb.sql(f\"SET s3_secret_access_key='{hmac_secret}';\")\n",
    "duckdb.sql(\"SET s3_endpoint='storage.googleapis.com'\")\n",
    "\n",
    "# Função para criar tabela a partir dos arquivos Parquet em uma subpasta\n",
    "def create_table_from_parquet(subfolder):\n",
    "    # Nome da tabela baseado no nome da subpasta\n",
    "    table_name = subfolder.replace(\"gs://hp-operacao-raw/mix/\", \"\").replace(\"/\", \"_\")\n",
    "    \n",
    "    try:\n",
    "        # Obter metadados para verificar a estrutura dos arquivos\n",
    "        metadata_query = f\"SELECT * FROM parquet_metadata('{subfolder}*.parquet')\"\n",
    "        metadata_df = duckdb.sql(metadata_query).df()\n",
    "        \n",
    "        # Verificar a consistência dos arquivos Parquet\n",
    "        # (Esta parte pode ser personalizada conforme a necessidade para verificar a consistência)\n",
    "        \n",
    "        # Ler os arquivos Parquet da subpasta\n",
    "        query = f\"SELECT * FROM read_parquet('{subfolder}*.parquet', union_by_name=True)\"\n",
    "        df = duckdb.sql(query).df()\n",
    "        \n",
    "        # Criar tabela no DuckDB\n",
    "        con.execute(f\"CREATE TABLE {table_name} AS SELECT * FROM df\")\n",
    "        print(f\"Tabela '{table_name}' criada com sucesso.\")\n",
    "    except Exception as e:\n",
    "        print(f\"Erro ao criar a tabela '{table_name}': {e}\")\n",
    "\n",
    "subfolders = [\n",
    "    # 'gs://hp-operacao-raw/mix/events/',\n",
    "    'gs://hp-operacao-raw/mix/geodata/',\n",
    "    # 'gs://hp-operacao-raw/mix/location/',\n",
    "    # 'gs://hp-operacao-raw/mix/positions/'\n",
    "]\n",
    "\n",
    "# Criar tabelas para cada subpasta\n",
    "for subfolder in subfolders:\n",
    "    create_table_from_parquet(subfolder)\n",
    "\n",
    "# Fechar a conexão\n",
    "con.close()\n"
   ]
  },
  {
   "cell_type": "code",
   "execution_count": 4,
   "metadata": {},
   "outputs": [],
   "source": [
    "con.close()"
   ]
  },
  {
   "cell_type": "code",
   "execution_count": null,
   "metadata": {},
   "outputs": [],
   "source": [
    "subfolders = [\n",
    "    # 'gs://hp-operacao-raw/mix/positions/',\n",
    "    # 'gs://hp-operacao-raw/mix/cars/',\n",
    "    # 'gs://hp-operacao-raw/mix/dict_events/',\n",
    "    'gs://hp-operacao-raw/mix/events/',\n",
    "    # 'gs://hp-operacao-raw/mix/geodata/',\n",
    "    # 'gs://hp-operacao-raw/mix/location/',\n",
    "    \n",
    "]"
   ]
  }
 ],
 "metadata": {
  "kernelspec": {
   "display_name": "telemetria-td5nHnf1-py3.12",
   "language": "python",
   "name": "python3"
  },
  "language_info": {
   "codemirror_mode": {
    "name": "ipython",
    "version": 3
   },
   "file_extension": ".py",
   "mimetype": "text/x-python",
   "name": "python",
   "nbconvert_exporter": "python",
   "pygments_lexer": "ipython3",
   "version": "3.12.3"
  }
 },
 "nbformat": 4,
 "nbformat_minor": 2
}
